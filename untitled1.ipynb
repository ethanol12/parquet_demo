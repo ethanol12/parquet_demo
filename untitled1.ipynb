{
 "cells": [
  {
   "cell_type": "markdown",
   "metadata": {},
   "source": [
    "From: https://github.com/apache/parquet-format/blob/master/LogicalTypes.md\n",
    "\n",
    "TIMESTAMP\n",
    "In data annotated with the TIMESTAMP logical type, each value is a single int64 number that can be decoded into year, month, day, hour, minute, second and subsecond fields using calculations detailed below. Please note that a value defined this way does not necessarily correspond to a single instant on the time-line and such interpretations are allowed on purpose.\n",
    "\n",
    "The TIMESTAMP type has two type parameters:\n",
    "\n",
    "isAdjustedToUTC must be either true or false.\n",
    "unit must be one of MILLIS, MICROS or NANOS. This list is subject to potential expansion in the future. Upon reading, unknown unit-s must be handled as unsupported features (rather than as errors in the data files).\n",
    "Instant semantics (timestamps normalized to UTC)\n",
    "A TIMESTAMP with isAdjustedToUTC=true is defined as the number of milliseconds, microseconds or nanoseconds (depending on the unit parameter being MILLIS, MICROS or NANOS, respectively) elapsed since the Unix epoch, 1970-01-01 00:00:00 UTC. Each such value unambiguously identifies a single instant on the time-line."
   ]
  },
  {
   "cell_type": "code",
   "execution_count": null,
   "metadata": {},
   "outputs": [],
   "source": [
    "import pandas as pd\n",
    "import pyarrow as pa\n",
    "import pyarrow.parquet as pq\n",
    "\n",
    "# Create a sample dataset\n",
    "data = {\n",
    "    'id': [1, 2, 3, 4, 5],\n",
    "    'name': ['Alice', 'Bob', 'Charlie', 'David', 'Eve'],\n",
    "    'date_of_birth': pd.to_datetime(['1990-01-01', '1985-05-15', '1992-07-30', '1988-03-22', '1995-12-10'])\n",
    "}\n",
    "\n",
    "df = pd.DataFrame(data)\n",
    "\n",
    "# Convert the Pandas DataFrame to an Arrow Table\n",
    "table = pa.Table.from_pandas(df)\n",
    "\n",
    "# Write the table to a Parquet file\n",
    "pq.write_table(table, 'sample_dataset.parquet')\n",
    "\n",
    "# Read the Parquet file back into a Pandas DataFrame\n",
    "df_read = pd.read_parquet('sample_dataset.parquet')\n",
    "\n",
    "# Query the date_of_birth column\n",
    "result = df_read[df_read['date_of_birth'] > '1990-01-01']\n",
    "\n",
    "print(\"Parquet file written and queried successfully.\")\n",
    "print(result)\n"
   ]
  }
 ],
 "metadata": {
  "kernelspec": {
   "display_name": "Python 3 (ipykernel)",
   "language": "python",
   "name": "python3"
  }
 },
 "nbformat": 4,
 "nbformat_minor": 2
}
